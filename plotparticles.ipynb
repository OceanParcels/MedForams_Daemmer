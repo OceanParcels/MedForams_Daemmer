{
 "cells": [
  {
   "cell_type": "code",
   "execution_count": null,
   "metadata": {},
   "outputs": [],
   "source": [
    "%pylab inline\n",
    "import xarray as xr\n",
    "import numpy as np\n",
    "import matplotlib.pyplot as plt\n",
    "import matplotlib.colors as colors\n",
    "import matplotlib.animation as animation\n",
    "from matplotlib import rc\n",
    "from glob import glob\n",
    "from parcels import plotTrajectoriesFile\n",
    "from parcels.plotting import create_parcelsfig_axis, cartopy_colorbar\n",
    "import cartopy"
   ]
  },
  {
   "cell_type": "code",
   "execution_count": null,
   "metadata": {},
   "outputs": [],
   "source": [
    "class ParticleData(object):\n",
    "    pass\n",
    "\n",
    "def load_particles_file(fname, varnames):\n",
    "    T = ParticleData()\n",
    "    pfile = xr.open_dataset(str(fname), decode_cf=True)\n",
    "    T.id = pfile.variables['trajectory'][:]\n",
    "\n",
    "    for v in varnames:\n",
    "        setattr(T, v,  np.ma.filled(pfile.variables[v][:], np.nan))\n",
    "    pfile.close()\n",
    "    \n",
    "    return T\n",
    "\n",
    "D = {}\n",
    "files = glob(\"medforams_10kpersection*.nc\")\n",
    "for file in files:\n",
    "    name = str(file)[-10:-3]\n",
    "    D[name] = load_particles_file(file, ['lon', 'lat', 'time', 'temp', 'salt'])\n",
    "    I, J =np.where(D[name].temp <= 0)\n",
    "    D[name].temp[I, J] = np.nan\n",
    "    I, J =np.where(D[name].salt <= 0)\n",
    "    D[name].salt[I, J] = np.nan"
   ]
  },
  {
   "cell_type": "code",
   "execution_count": null,
   "metadata": {},
   "outputs": [],
   "source": [
    "T = ParticleData()\n",
    "for v in ['lon', 'lat', 'time', 'temp', 'salt']:\n",
    "    tmp = []\n",
    "    for d in D:\n",
    "        tmp.append(getattr(D[d], v))\n",
    "    setattr(T, v, np.array(tmp))"
   ]
  },
  {
   "cell_type": "code",
   "execution_count": null,
   "metadata": {},
   "outputs": [],
   "source": [
    "from matplotlib import animation, rc\n",
    "pylab.rcParams['figure.figsize'] = (11, 8)\n",
    "projection = cartopy.crs.PlateCarree()\n",
    "\n",
    "for varname in ['salt', 'temp']:\n",
    "    var = getattr(T, varname)\n",
    "    fig, ax = plt.subplots(1, 1,subplot_kw={'projection': projection})\n",
    "    ax.coastlines(resolution='50m')\n",
    "    ax.add_feature(cartopy.feature.LAND)\n",
    "\n",
    "    plottimes = np.arange(np.min(T.time), np.max(T.time), dtype='datetime64[1D]')\n",
    "\n",
    "    b = np.where(np.logical_and(T.time <= plottimes[-1], T.time > plottimes[-2]))\n",
    "    scat = ax.scatter(T.lon[b], T.lat[b], s=3, c=var[b],\n",
    "                      transform=cartopy.crs.Geodetic())\n",
    "    scat.set_clim(np.nanmin(var), np.nanmax(var))\n",
    "    cb = plt.colorbar(scat, orientation=\"horizontal\")\n",
    "    axextent = [-10, 38, 30, 46]\n",
    "    ax.set_extent(axextent, crs=cartopy.crs.PlateCarree())\n",
    "\n",
    "    ttl = ax.set_title(varname+' of particles on ' + str(plottimes[0]))\n",
    "    frames = np.arange(len(plottimes)-1, 0, -1)\n",
    "\n",
    "    def animate(t):\n",
    "        b = np.where(np.logical_and(T.time <= plottimes[t], T.time > plottimes[t-1]))\n",
    "        scat.set_offsets(np.vstack((T.lon[b], T.lat[b])).transpose())\n",
    "        scat.set_array(var[b])\n",
    "        ttl.set_text(varname+' of particles on ' + str(plottimes[t]))\n",
    "        return scat,\n",
    "\n",
    "    ax.set_extent(axextent, crs=cartopy.crs.PlateCarree())\n",
    "    anim = animation.FuncAnimation(fig, animate, frames=frames, interval=100, blit=True)\n",
    "    anim\n",
    "    anim.save(\"medforams_10kpertrawl_%s.gif\" %varname, writer='imagemagick', fps=10)"
   ]
  },
  {
   "cell_type": "code",
   "execution_count": null,
   "metadata": {},
   "outputs": [],
   "source": [
    "T.lon.shape"
   ]
  },
  {
   "cell_type": "code",
   "execution_count": null,
   "metadata": {},
   "outputs": [],
   "source": []
  }
 ],
 "metadata": {
  "kernelspec": {
   "display_name": "Python 3",
   "language": "python",
   "name": "python3"
  },
  "language_info": {
   "codemirror_mode": {
    "name": "ipython",
    "version": 3
   },
   "file_extension": ".py",
   "mimetype": "text/x-python",
   "name": "python",
   "nbconvert_exporter": "python",
   "pygments_lexer": "ipython3",
   "version": "3.6.8"
  }
 },
 "nbformat": 4,
 "nbformat_minor": 2
}
